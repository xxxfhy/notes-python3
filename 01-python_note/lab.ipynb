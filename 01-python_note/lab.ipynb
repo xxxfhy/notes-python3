{
 "cells": [
  {
   "attachments": {},
   "cell_type": "markdown",
   "metadata": {},
   "source": [
    "# 练习"
   ]
  },
  {
   "attachments": {},
   "cell_type": "markdown",
   "metadata": {},
   "source": [
    "## 练习 1：完美数\n",
    "完美数是一个正整数，其值等于其适当除数之和（其因子不包括数字本身）。\n",
    "\n",
    "6 是第一个完全数，因为它的除数 1、2 和 3 加起来就是 6。\n",
    "\n",
    "下面会给定一组数，如果是完美数请输出：XX是完美数。如果不是完美数请输出：XX不是完美数"
   ]
  },
  {
   "cell_type": "code",
   "execution_count": 2,
   "metadata": {},
   "outputs": [
    {
     "name": "stdout",
     "output_type": "stream",
     "text": [
      "6不是完美数\n",
      "28不是完美数\n",
      "496不是完美数\n",
      "1不是完美数\n",
      "2不是完美数\n",
      "3不是完美数\n",
      "4不是完美数\n",
      "5不是完美数\n",
      "10不是完美数\n",
      "20不是完美数\n"
     ]
    }
   ],
   "source": [
    "number = (6, 28, 496, 1, 2, 3, 4, 5, 10, 20)\n",
    "temp_num=0\n",
    "for i in number:\n",
    "    for j in range(1,i):\n",
    "        if i%j==0:\n",
    "            b=i//j\n",
    "            temp_num+=b\n",
    "        else:\n",
    "            b=0\n",
    "            temp_num+=b\n",
    "    if i==temp_num:\n",
    "        print(\"{}是完美数\".format(i))\n",
    "    else:print(\"{}不是完美数\".format(i))\n",
    "    \n",
    "    "
   ]
  },
  {
   "attachments": {},
   "cell_type": "markdown",
   "metadata": {},
   "source": [
    "## 练习 2：3 或 5 的倍数\n",
    "如果我们列出所有低于 10 的 3 或 5 倍数的自然数，我们得到 3、5、6 和 9。这些倍数的总和是 23。\n",
    "\n",
    "请实现功能：查找低于自然数`n`的 3 或 5 的所有倍数的总和`sum`\n",
    "\n",
    "补充相同代码，使得以下代码片段能运行成功"
   ]
  },
  {
   "cell_type": "code",
   "execution_count": 2,
   "metadata": {},
   "outputs": [],
   "source": [
    "n=10\n",
    "sum=0\n",
    "result = 23\n",
    "\n",
    "\n",
    "if sum == result:\n",
    "    print(\"通过\")\n",
    "else:\n",
    "    raise ValueError(\"再想想\")"
   ]
  },
  {
   "cell_type": "code",
   "execution_count": null,
   "metadata": {},
   "outputs": [],
   "source": [
    "n=500 \n",
    "sum=0\n",
    "result=57918\n",
    "\n",
    "\n",
    "if sum == result:\n",
    "    print(\"通过\")\n",
    "else:\n",
    "    raise ValueError(\"再想想\")"
   ]
  },
  {
   "cell_type": "code",
   "execution_count": null,
   "metadata": {},
   "outputs": [],
   "source": [
    "n=1000\n",
    "sum=0\n",
    "result=233168\n",
    "\n",
    "\n",
    "if sum == result:\n",
    "    print(\"通过\")\n",
    "else:\n",
    "    raise ValueError(\"再想想\")"
   ]
  },
  {
   "attachments": {},
   "cell_type": "markdown",
   "metadata": {},
   "source": [
    "## 练习 3：整数直角三角形\n",
    "\n",
    "给定周长为 60，我们可以找到两个长度为整数边的直角三角形：[（10， 24， 26）， （15， 20， 25）]。\n",
    "\n",
    "实现功能，取一个整数`p`并返回具有周长的唯一整数直角三角形的数量`count`。\n",
    "\n",
    "请注意，您的解决方案应注意运行的时间\n",
    "\n",
    "补充相同代码，使得以下代码片段能运行成功"
   ]
  },
  {
   "cell_type": "code",
   "execution_count": null,
   "metadata": {},
   "outputs": [],
   "source": [
    "p=60\n",
    "count=0\n",
    "\n",
    "if count == 2:\n",
    "    print(\"通过\")\n",
    "else:\n",
    "    raise ValueError(\"再想想\")"
   ]
  },
  {
   "cell_type": "code",
   "execution_count": null,
   "metadata": {},
   "outputs": [],
   "source": [
    "p=100\n",
    "count=0\n",
    "\n",
    "if count == 0:\n",
    "    print(\"通过\")\n",
    "else:\n",
    "    raise ValueError(\"再想想\")"
   ]
  },
  {
   "cell_type": "code",
   "execution_count": null,
   "metadata": {},
   "outputs": [],
   "source": [
    "p=180\n",
    "count=0\n",
    "\n",
    "if count == 3:\n",
    "    print(\"通过\")\n",
    "else:\n",
    "    raise ValueError(\"再想想\")"
   ]
  },
  {
   "attachments": {},
   "cell_type": "markdown",
   "metadata": {},
   "source": [
    "# 练习 4：简单的 ASCII 艺术\n",
    "对于下一个练习，您需要实现功能\n",
    "\n",
    "将打印出同心钻石的ASCII艺术图案，使用这些字符。以下是打印的模式示例（请注意最后一行末尾的换行符！\n",
    "\n",
    "    > gen_pattern='X'\n",
    "\n",
    "    X\n",
    "\n",
    "    > gen_pattern='XY'\n",
    "\n",
    "    ..Y..\n",
    "    Y.X.Y\n",
    "    ..Y..\n",
    "\n",
    "    > gen_pattern='WXYZ'\n",
    "\n",
    "    ......Z......\n",
    "    ....Z.Y.Z....\n",
    "    ..Z.Y.X.Y.Z..\n",
    "    Z.Y.X.W.X.Y.Z\n",
    "    ..Z.Y.X.Y.Z..\n",
    "    ....Z.Y.Z....\n",
    "    ......Z......\n",
    "\n",
    "字符串连接和中心方法对您的完成很有帮助。演示如下：\n",
    "\n",
    "    > '*'.join('abcde')\n",
    "\n",
    "    'a*b*c*d*e'\n",
    "\n",
    "    > 'hello'.center(11, '*')\n",
    "\n",
    "    '***hello***'"
   ]
  },
  {
   "cell_type": "code",
   "execution_count": null,
   "metadata": {},
   "outputs": [],
   "source": []
  }
 ],
 "metadata": {
  "kernelspec": {
   "display_name": "Python 3",
   "language": "python",
   "name": "python3"
  },
  "language_info": {
   "codemirror_mode": {
    "name": "ipython",
    "version": 3
   },
   "file_extension": ".py",
   "mimetype": "text/x-python",
   "name": "python",
   "nbconvert_exporter": "python",
   "pygments_lexer": "ipython3",
   "version": "3.10.4"
  },
  "orig_nbformat": 4
 },
 "nbformat": 4,
 "nbformat_minor": 2
}
