{
 "cells": [
  {
   "cell_type": "markdown",
   "metadata": {},
   "source": [
    "# 使用 Anaconda"
   ]
  },
  {
   "attachments": {},
   "cell_type": "markdown",
   "metadata": {},
   "source": [
    "    conda和pip是两种安装python第三方库的工具。pip是python自带的工具，只能安装python的包，而且可能需要编译器和库的支持。conda是Anaconda环境的工具，可以安装任何语言的包，包括一些非python的依赖项，而且使用了新的包格式。pip和conda不能交替使用，因为它们不能识别对方的包格式 -- New Bing"
   ]
  },
  {
   "attachments": {},
   "cell_type": "markdown",
   "metadata": {},
   "source": [
    "## why Anaconda ?"
   ]
  },
  {
   "attachments": {},
   "cell_type": "markdown",
   "metadata": {},
   "source": [
    "一 个 小 插 曲：\n",
    "\n",
    "[为什么有些人宁愿花费很多时间去自己手工配置Python环境, 也不用Anaconda?](https://www.zhihu.com/question/404402864/answer/2954272601)\n",
    "\n",
    "    不要给我讲什么docker容器，miniconda，\n",
    "    写python就是一把梭，\n",
    "    pip install，pip uninstall，拿起pip就是干。\n",
    "    赢了安装新库，输了系统重装。\n",
    "![太对了，哥！.png](https://pic2.zhimg.com/v2-94215f57d872d68a52af495794393119.jpg)"
   ]
  },
  {
   "attachments": {},
   "cell_type": "markdown",
   "metadata": {},
   "source": [
    "[Anaconda](http://www.continuum.io/downloads)是一个很好用的 Python 发行版，它包含了大量的科学计算和数据分析的库，比如 NumPy、SciPy、Pandas、Matplotlib 等等。Anaconda 也包含了 Jupyter Notebook，可以直接使用。"
   ]
  },
  {
   "attachments": {},
   "cell_type": "markdown",
   "metadata": {},
   "source": [
    "## conda 的安装\n",
    "anaconda 安装包下载地址：[清华大学镜像](https://mirrors.tuna.tsinghua.edu.cn/anaconda/archive/?C=N&O=A)\n",
    "\n",
    "\n",
    "选择 **Anaconda3-2023.03** 及其之后版本，不要选择Anaconda2和Anaconda！！！\n",
    "\n",
    "打开\n",
    "\n",
    "    Anaconda3-2023.03-Windows-x86_64.exe(示例)\n",
    "\n",
    "安装过程:\n",
    "\n",
    "- Install for:\n",
    "\n",
    "Just me 仅为当前用户安装\n",
    "\n",
    "All users 安装到所有用户\n",
    "\n",
    "选择 All users\n",
    "\n",
    "- Advanced Options:\n",
    "\n",
    "有四个选项：\n",
    "\n",
    "    1. Create start menu shortcuts (supported packages only). \n",
    "\n",
    "创建开始菜单快捷方式，勾选\n",
    "\n",
    "    2. Add Anaconda3 to mny PATH environment variable\n",
    "\n",
    "    NOT recommended.This can lead to conflicts with other applications.Instead,use the Commmand Prompt and Powershell menus added to the Windows Start Mennu. \n",
    "\n",
    "添加环境变量，不勾选，建议自己添加。 Anaconda 添加可能会和其他程序冲突，而且 Anaconda 会自动添加 Command Prompt(cmd) 和 Powershell 菜单，所以不勾选也没关系。\n",
    "\n",
    "    3. Register Anaconda3 as my default Python 3.10\n",
    "\n",
    "    Recommended. Allows other programs, such as VSCode,PyCharm,etc.to automatically detect Anaconda3 as the primary Python 3.10 on the system. \n",
    "\n",
    "Anaconda 假装安装了官方 Python 3.10，但是实际上是 Anaconda 自己的 Python 3.10，所以建议勾选这个选项，这样其他程序就能够自动检测到 Anaconda 的 Python 3.10 了。\n",
    "\n",
    "    4. Clear the package cache upon completion\n",
    "\n",
    "    Recommended.Recovers somedisk space without harming functionality.\n",
    "\n",
    "安装完成后清除缓存，勾选。\n",
    "\n",
    "其余步骤参考[安装教程](https://zhuanlan.zhihu.com/p/358641541)"
   ]
  },
  {
   "cell_type": "markdown",
   "metadata": {},
   "source": [
    "## conda 的使用 "
   ]
  },
  {
   "attachments": {},
   "cell_type": "markdown",
   "metadata": {},
   "source": [
    "首先，我们需要安装Anaconda，然后在命令行中输入`conda`，就可以看到conda的帮助信息。\n",
    "\n",
    "如果显示的是`conda: command not found`，那么就需要将Anaconda的安装路径添加到环境变量中。\n",
    "\n",
    "如何添加环境变量，可以参考[这里](https://zhuanlan.zhihu.com/p/358641541)。\n",
    "\n",
    "---------------------\n",
    "题外话：\n",
    "\n",
    "编程语言的可执行文件通常是在命令行或者终端里面调用的. 加环境变量为了方便调用。比如在命令行里面输入`python`，就可以调用python解释器。\n",
    "\n",
    "如果没有添加环境变量，也可以每次使用的时候都用绝对路径来执行, 比如`D:\\programs\\conda\\Scripts\\conda.exe`。（这里的`D:\\programs\\conda\\Scripts\\`是Anaconda的安装路径）\n",
    "\n",
    "---------------------\n"
   ]
  },
  {
   "cell_type": "markdown",
   "metadata": {},
   "source": [
    "根据自己的操作系统安装好[Anaconda](http://www.continuum.io/downloads)后，在命令行下输入：\n",
    "\n",
    "    conda list\n",
    "\n",
    "可以看已经安装好的**python**第三方工具包，这里我们使用 `magic` 命令 `%%cmd` 在 `ipython cell` 中来执行这个命令："
   ]
  },
  {
   "cell_type": "code",
   "execution_count": 3,
   "metadata": {
    "collapsed": false
   },
   "outputs": [
    {
     "name": "stdout",
     "output_type": "stream",
     "text": [
      "# packages in environment at D:\\programs\\conda\\envs\\p39:\n",
      "#\n",
      "# Name                    Version                   Build  Channel\n",
      "bzip2                     1.0.8                h8ffe710_4    https://mirrors.tuna.tsinghua.edu.cn/anaconda/cloud/conda-forge\n",
      "ca-certificates           2022.12.7            h5b45459_0    https://mirrors.tuna.tsinghua.edu.cn/anaconda/cloud/conda-forge\n",
      "libffi                    3.4.2                h8ffe710_5    https://mirrors.tuna.tsinghua.edu.cn/anaconda/cloud/conda-forge\n",
      "libsqlite                 3.40.0               hcfcfb64_0    https://mirrors.tuna.tsinghua.edu.cn/anaconda/cloud/conda-forge\n",
      "libzlib                   1.2.13               hcfcfb64_4    https://mirrors.tuna.tsinghua.edu.cn/anaconda/cloud/conda-forge\n",
      "openssl                   3.1.0                hcfcfb64_0    https://mirrors.tuna.tsinghua.edu.cn/anaconda/cloud/conda-forge\n",
      "pip                       23.0.1             pyhd8ed1ab_0    https://mirrors.tuna.tsinghua.edu.cn/anaconda/cloud/conda-forge\n",
      "python                    3.9.16          h4de0772_0_cpython    https://mirrors.tuna.tsinghua.edu.cn/anaconda/cloud/conda-forge\n",
      "setuptools                67.6.0             pyhd8ed1ab_0    https://mirrors.tuna.tsinghua.edu.cn/anaconda/cloud/conda-forge\n",
      "tk                        8.6.12               h8ffe710_0    https://mirrors.tuna.tsinghua.edu.cn/anaconda/cloud/conda-forge\n",
      "tzdata                    2022g                h191b570_0    https://mirrors.tuna.tsinghua.edu.cn/anaconda/cloud/conda-forge\n",
      "ucrt                      10.0.22621.0         h57928b3_0    https://mirrors.tuna.tsinghua.edu.cn/anaconda/cloud/conda-forge\n",
      "vc                        14.3                hb6edc58_10    https://mirrors.tuna.tsinghua.edu.cn/anaconda/cloud/conda-forge\n",
      "vs2015_runtime            14.34.31931         h4c5c07a_10    https://mirrors.tuna.tsinghua.edu.cn/anaconda/cloud/conda-forge\n",
      "wheel                     0.40.0             pyhd8ed1ab_0    https://mirrors.tuna.tsinghua.edu.cn/anaconda/cloud/conda-forge\n",
      "xz                        5.2.6                h8d14728_0    https://mirrors.tuna.tsinghua.edu.cn/anaconda/cloud/conda-forge\n"
     ]
    }
   ],
   "source": [
    "!conda list"
   ]
  },
  {
   "cell_type": "markdown",
   "metadata": {},
   "source": [
    "第一次安装好 [Anaconda](http://www.continuum.io/downloads) 以后，可以在命令行输入以下命令使 [Anaconda](http://www.continuum.io/downloads) 保持最新：\n",
    "\n",
    "    conda update conda\n",
    "    conda update anaconda\n",
    "\n",
    "conda 是一种很强大的工具，具体用法可以参照它的[文档](http://conda.pydata.org/docs/)。\n",
    "\n",
    "也可以参考它的 [cheat sheet](http://conda.pydata.org/docs/_downloads/conda-cheatsheet.pdf) 来快速查看它的用法。\n",
    "\n",
    "可以使用它来安装，更新，卸载第三方的 **python** 工具包：\n",
    "\n",
    "    conda install <some package>\n",
    "    conda update <some package>\n",
    "    conda remove <some package>\n",
    "\n",
    "在安装或更新时可以指定安装的版本号，例如需要使用 `numpy 1.8.1`：\n",
    "\n",
    "    conda install numpy=1.8.1\n",
    "    conda update numpy=1.8.1\n",
    "\n",
    "查看 `conda` 的信息：\n",
    "\n",
    "    conda info"
   ]
  },
  {
   "cell_type": "code",
   "execution_count": 1,
   "metadata": {
    "collapsed": false
   },
   "outputs": [
    {
     "name": "stdout",
     "output_type": "stream",
     "text": [
      "\n",
      "     active environment : base\n",
      "    active env location : D:\\programs\\conda\n",
      "            shell level : 1\n",
      "       user config file : C:\\Users\\Lenod\\.condarc\n",
      " populated config files : C:\\Users\\Lenod\\.condarc\n",
      "          conda version : 23.1.0\n",
      "    conda-build version : 3.23.3\n",
      "         python version : 3.10.9.final.0\n",
      "       virtual packages : __archspec=1=x86_64\n",
      "                          __cuda=12.0=0\n",
      "                          __win=0=0\n",
      "       base environment : D:\\programs\\conda  (read only)\n",
      "      conda av data dir : D:\\programs\\conda\\etc\\conda\n",
      "  conda av metadata url : None\n",
      "           channel URLs : https://mirrors.tuna.tsinghua.edu.cn/anaconda/cloud/conda-forge/win-64\n",
      "                          https://mirrors.tuna.tsinghua.edu.cn/anaconda/cloud/conda-forge/noarch\n",
      "                          https://mirrors.tuna.tsinghua.edu.cn/anaconda/pkgs/free/win-64\n",
      "                          https://mirrors.tuna.tsinghua.edu.cn/anaconda/pkgs/free/noarch\n",
      "                          https://repo.anaconda.com/pkgs/main/win-64\n",
      "                          https://repo.anaconda.com/pkgs/main/noarch\n",
      "                          https://repo.anaconda.com/pkgs/r/win-64\n",
      "                          https://repo.anaconda.com/pkgs/r/noarch\n",
      "                          https://repo.anaconda.com/pkgs/msys2/win-64\n",
      "                          https://repo.anaconda.com/pkgs/msys2/noarch\n",
      "          package cache : D:\\programs\\conda\\pkgs\n",
      "       envs directories : D:\\programs\\conda\\envs\n",
      "                          C:\\Users\\Lenod\\.conda\\envs\n",
      "                          C:\\Users\\Lenod\\AppData\\Local\\conda\\conda\\envs\n",
      "               platform : win-64\n",
      "             user-agent : conda/23.1.0 requests/2.28.1 CPython/3.10.9 Windows/10 Windows/10.0.22621\n",
      "          administrator : False\n",
      "             netrc file : None\n",
      "           offline mode : False\n",
      "\n"
     ]
    }
   ],
   "source": [
    "!conda info"
   ]
  },
  {
   "attachments": {},
   "cell_type": "markdown",
   "metadata": {},
   "source": [
    "### conda 用来进行环境隔离\n",
    "\n",
    "一个很棒的功能是 `conda` 可以产生一个自定义的环境，假设在安装的是 **Python 3.9** 的情况下，想使用 **Python 3.4**，只需要在命令行下使用 `conda` 产生一个新的环境：\n",
    "\n",
    "    conda create -n py34 python=3.4\n",
    "\n",
    "这里这个环境被命名为 `py34` ，可以根据喜好将 `py34` 改成其他的名字。\n",
    "\n",
    "使用这个环境时，只需要命令行下输入：\n",
    "\n",
    "``` python\n",
    "activate py34 #(windows)\n",
    "source activate py34 #(linux, mac)\n",
    "```\n",
    "\n",
    "此时，我们的 **Python** 版本便是 **`python 3.4`**了。\n",
    "\n"
   ]
  },
  {
   "attachments": {},
   "cell_type": "markdown",
   "metadata": {},
   "source": [
    "### 用 conda 构建基本环境\n",
    "\n",
    "conda 要进行复杂的依赖冲突验证。当前环境中已有的包越多，这个检查就越复杂，而且验证失败的概率越大。\n",
    "\n",
    "所以尽量少地使用 conda 安装 package，尽量多地使用 pip 安装 package。\n",
    "\n",
    "如果所需的环境中，有的 package 是anaconda 特别优化过的（例如 PyTorch、Tensorflow）,anaconda 特有的（例如 cudatoolkit），或者还需要 C/C++ 的依赖的（例如 OpenCV），这些情况下使用 pip 是不明智的。\n",
    "尤其是后两种，还需要手动安装/编译依赖库，并手动进行环境变量的隔离。那么我会在 conda create 的时候将所有这些必须由 conda 安装的 package 全部写到参数中。其他的 package 在环境创建完成后使用 pip 安装。\n",
    "\n",
    "    conda create -n py36 python=3.6 numpy scipy matplotlib pandas jupyter notebook pytorch torchvision cudatoolkit=10.1 -c pytorch\n",
    "\n",
    "`-c`的作用是指定conda从哪个channel安装package，这里指定了pytorch的channel。"
   ]
  },
  {
   "attachments": {},
   "cell_type": "markdown",
   "metadata": {},
   "source": [
    "### `conda` 卸载环境：\n",
    "\n",
    "``` python  \n",
    "conda deactivate py34 #(windows)\n",
    "source deactivate py34 #(linux, mac)\n",
    "conda remove -n py34 --all\n",
    "```"
   ]
  },
  {
   "cell_type": "markdown",
   "metadata": {},
   "source": [
    "## Vs code 编辑器 （推荐）\n",
    "推荐使用 [Vs code](https://code.visualstudio.com/) 编辑器，它是微软开发的一个免费的编辑器，支持多种语言，包括 `python`，`C++`，`C#`，`Java`，`JavaScript`，`TypeScript`，`HTML`，`CSS`，`PHP`，`Go`，`Ruby`。它的安装和使用方法可以参考[官方文档](https://code.visualstudio.com/docs)。\n",
    "\n",
    "## pycharm 编辑器 （推荐）\n",
    "[pycharm](https://www.jetbrains.com/pycharm/) 编辑器，它是一个专门为 `python` 开发的编辑器。它的安装和使用方法可以参考[官方文档](https://www.jetbrains.com/help/pycharm/)。\n",
    "\n",
    "## Jupyter notebook \n",
    "juptyer notebook 是一个很好用的交互式的编辑器，可以在浏览器中运行 `python` 代码。它的安装和使用方法可以参考[官方文档](http://jupyter.org/)。\n",
    "Anaconda 默认已经安装好了 `jupyter notebook`，可以在命令行下输入：\n",
    "\n",
    "    jupyter notebook\n"
   ]
  },
  {
   "attachments": {},
   "cell_type": "markdown",
   "metadata": {},
   "source": [
    "## spyder 编辑器（不推荐）\n",
    "\n",
    "`Anaconda` 默认使用的编辑器是 `spyder`，可以在命令行下输入：\n",
    "\n",
    "    spyder\n",
    "\n",
    "来进入这个编辑器，具体使用方法不做介绍。"
   ]
  },
  {
   "attachments": {},
   "cell_type": "markdown",
   "metadata": {},
   "source": [
    "-----\n",
    "-----\n",
    "\n",
    "高级功能"
   ]
  },
  {
   "attachments": {},
   "cell_type": "markdown",
   "metadata": {},
   "source": [
    "### 用 clone 命令来复制一个环境："
   ]
  },
  {
   "attachments": {},
   "cell_type": "markdown",
   "metadata": {},
   "source": [
    "\n",
    "    conda create -n copy --clone py38\n",
    "\n",
    "这里 `py38` 是一个已经存在的环境，这个命令将会复制 `py38` 的所有包到 `copy` 中。\n",
    "\n",
    "    conda create -n py39 python=3.9 --clone py38\n",
    "\n",
    "这里 `py38` 是一个已经存在的环境，这个命令将会复制 `py28` 的所有包到 `py39` 中。\n",
    "\n",
    "clone 的参数也可以是环境的路径：\n",
    "\n",
    "    conda create -n py34 python=3.4 --clone /home/username/anaconda/envs/py34\n",
    "    conda create -n p39 python=3.4 --clone D:\\programs\\conda\\envs\\p39"
   ]
  },
  {
   "cell_type": "markdown",
   "metadata": {},
   "source": [
    "### `conda` 版本回退:"
   ]
  },
  {
   "attachments": {},
   "cell_type": "markdown",
   "metadata": {},
   "source": [
    "\n",
    "#### 查看环境修改历史记录:\n",
    "\n",
    "``` python\n",
    "# 默认显示的是 base 环境的历史记录\n",
    "conda list --revisions\n",
    "\n",
    "# 显示指定环境的修改记录\n",
    "conda list -n env_name -r\n",
    "```\n",
    "\n",
    "#### 回到指定版本:\n",
    "\n",
    "``` python\n",
    "# 回到第 N 个版本\n",
    "conda install --revision N\n",
    "```\n",
    "环境的修改历史存储在文件 history 存在如下路径：\n",
    "\n",
    "#### 删除环境修改历史记录:\n",
    "\n",
    "环境的修改历史存储在文件\n",
    "```\n",
    "anaconda3/conda-meta/history\n",
    "或\n",
    "anaconda3/envs/name/conda-meta/history\n",
    "```\n",
    "* 回退时，conda 会将环境中的所有包都回退到指定版本（不包括 pip 安装的包）。而且 conda 会保留那些被修改过的包的修改记录，以便在下次回退时，只回退被修改过的包。但是，conda 无法回退通过 pip 安装的包的版本。通过 pip 安装的包，conda 是无法知道它们的修改记录的。"
   ]
  }
 ],
 "metadata": {
  "kernelspec": {
   "display_name": "base",
   "language": "python",
   "name": "python3"
  },
  "language_info": {
   "codemirror_mode": {
    "name": "ipython",
    "version": 3
   },
   "file_extension": ".py",
   "mimetype": "text/x-python",
   "name": "python",
   "nbconvert_exporter": "python",
   "pygments_lexer": "ipython3",
   "version": "3.10.8"
  }
 },
 "nbformat": 4,
 "nbformat_minor": 0
}
