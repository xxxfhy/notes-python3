{
 "cells": [
  {
   "attachments": {},
   "cell_type": "markdown",
   "metadata": {},
   "source": [
    "# 将笔记转化为不同的文件格式"
   ]
  },
  {
   "cell_type": "code",
   "execution_count": 1,
   "metadata": {},
   "outputs": [],
   "source": [
    "import os\n",
    "import os.path\n",
    "import nbconvert\n",
    "import glob"
   ]
  },
  {
   "attachments": {},
   "cell_type": "markdown",
   "metadata": {},
   "source": [
    "检查路径是否存在，删除旧的文件："
   ]
  },
  {
   "cell_type": "code",
   "execution_count": 2,
   "metadata": {},
   "outputs": [],
   "source": [
    "if not os.path.exists('static-files'):\n",
    "    os.mkdir('static-files')\n",
    "    \n",
    "for n in glob.glob('static-files/*/*/*'):\n",
    "    os.remove(n)"
   ]
  },
  {
   "attachments": {},
   "cell_type": "markdown",
   "metadata": {},
   "source": [
    "文件夹："
   ]
  },
  {
   "cell_type": "code",
   "execution_count": 3,
   "metadata": {},
   "outputs": [],
   "source": [
    "folders = ['01-python_note',\n",
    "           '02-numpy',\n",
    "           '03-scipy',\n",
    "           '04-advanced-python',\n",
    "           '05-matplotlib',\n",
    "           '06-interfacing-with-other-languages',\n",
    "           '07-object-oriented-programming',\n",
    "           '08-theano',\n",
    "           '09-something-interesting',\n",
    "           '10-useful-tools',\n",
    "           '11-pandas'\n",
    "           ]\n"
   ]
  },
  {
   "cell_type": "code",
   "execution_count": 5,
   "metadata": {},
   "outputs": [],
   "source": [
    "folders = ['01-python_note',]\n"
   ]
  },
  {
   "attachments": {},
   "cell_type": "markdown",
   "metadata": {},
   "source": [
    "遍历文件夹得到所有的文件名："
   ]
  },
  {
   "cell_type": "code",
   "execution_count": 6,
   "metadata": {},
   "outputs": [],
   "source": [
    "file_names = []\n",
    "\n",
    "for folder in folders:\n",
    "    files = sorted(os.listdir(folder))\n",
    "    file_names += [os.path.join(folder, file_name) for file_name in files if file_name.endswith('.ipynb')]"
   ]
  },
  {
   "cell_type": "code",
   "execution_count": 9,
   "metadata": {},
   "outputs": [],
   "source": [
    "def convert_to_files(names, to_format):\n",
    "    target_dir = os.path.join(\"static-files\", to_format)\n",
    "    for folder in folders:\n",
    "        if not os.path.exists(os.path.join(target_dir, folder)):\n",
    "            os.makedirs(os.path.join(target_dir, folder))\n",
    "\n",
    "    for file_name in names:\n",
    "        p = nbconvert.export(nbconvert.get_exporter(to_format), file_name)\n",
    "        with open(os.path.join(target_dir, file_name[:-6] + p[1][\"output_extension\"]), 'w', encoding='utf-8') as f:\n",
    "            f.write(p[0])\n",
    "        print(file_name)"
   ]
  },
  {
   "attachments": {},
   "cell_type": "markdown",
   "metadata": {},
   "source": [
    "转化 HTML 文件："
   ]
  },
  {
   "cell_type": "code",
   "execution_count": 10,
   "metadata": {},
   "outputs": [
    {
     "name": "stdout",
     "output_type": "stream",
     "text": [
      "01-python_note\\01.00.0-env-anaconda.ipynb\n",
      "01-python_note\\01.00.1-ipython-interpreter.ipynb\n",
      "01-python_note\\01.01-python-overview.ipynb\n",
      "01-python_note\\01.02.python-intro.ipynb\n",
      "01-python_note\\02.01-numbers.ipynb\n",
      "01-python_note\\02.02-string.ipynb\n",
      "01-python_note\\02.03-indexing-and-slicing.ipynb\n",
      "01-python_note\\02.04-lists.ipynb\n",
      "01-python_note\\02.05-mutable-and-immutable-data-types.ipynb\n",
      "01-python_note\\02.06-tuples.ipynb\n",
      "01-python_note\\02.07-speed-comparison-between-list-&-tuple.ipynb\n",
      "01-python_note\\02.08-dictionaries.ipynb\n",
      "01-python_note\\02.09-sets.ipynb\n",
      "01-python_note\\02.10-frozen-sets.ipynb\n",
      "01-python_note\\02.11-how-python-assignment-works.ipynb\n",
      "01-python_note\\02.12-if-statement.ipynb\n",
      "01-python_note\\02.13-loops.ipynb\n",
      "01-python_note\\02.14-list-comprehension.ipynb\n",
      "01-python_note\\02.15-functions.ipynb\n",
      "01-python_note\\02.16-modules-and-packages.ipynb\n",
      "01-python_note\\02.17-exceptions.ipynb\n",
      "01-python_note\\02.18-warnings.ipynb\n",
      "01-python_note\\02.19-file-IO.ipynb\n",
      "01-python_note\\lab.ipynb\n"
     ]
    }
   ],
   "source": [
    "convert_to_files(file_names, \"html\")"
   ]
  },
  {
   "attachments": {},
   "cell_type": "markdown",
   "metadata": {},
   "source": [
    "产生新目录："
   ]
  },
  {
   "cell_type": "code",
   "execution_count": 13,
   "metadata": {},
   "outputs": [],
   "source": [
    "with open('index.md',encoding='utf-8') as f:\n",
    "    text = f.read()\n",
    "    with open(os.path.join(\"static-files\", \"html\", \"README.md\"), \"w\", encoding='utf-8') as g:\n",
    "        g.write(text.replace(\".ipynb\", \".html\"))\n"
   ]
  },
  {
   "cell_type": "code",
   "execution_count": null,
   "metadata": {},
   "outputs": [],
   "source": []
  }
 ],
 "metadata": {
  "kernelspec": {
   "display_name": "Python 3",
   "language": "python",
   "name": "python3"
  },
  "language_info": {
   "codemirror_mode": {
    "name": "ipython",
    "version": 3
   },
   "file_extension": ".py",
   "mimetype": "text/x-python",
   "name": "python",
   "nbconvert_exporter": "python",
   "pygments_lexer": "ipython3",
   "version": "3.10.8"
  }
 },
 "nbformat": 4,
 "nbformat_minor": 1
}
