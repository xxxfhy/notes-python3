{
 "cells": [
  {
   "attachments": {},
   "cell_type": "markdown",
   "metadata": {},
   "source": [
    "# 产生目录"
   ]
  },
  {
   "cell_type": "code",
   "execution_count": 2,
   "metadata": {
    "collapsed": true
   },
   "outputs": [],
   "source": [
    "import os\n",
    "import os.path"
   ]
  },
  {
   "attachments": {},
   "cell_type": "markdown",
   "metadata": {},
   "source": [
    "文件夹名："
   ]
  },
  {
   "cell_type": "code",
   "execution_count": null,
   "metadata": {
    "collapsed": true
   },
   "outputs": [],
   "source": [
    "folders = ['1-python_note',\n",
    "           '02-numpy',\n",
    "           '03-scipy',\n",
    "           '04-advanced-python',\n",
    "           '05-matplotlib',\n",
    "           '06-interfacing-with-other-languages',\n",
    "           '07-object-oriented-programming',\n",
    "           '08-theano',\n",
    "           '09-something-interesting',\n",
    "           '10-useful-tools',\n",
    "           '11-pandas'\n",
    "          ]"
   ]
  },
  {
   "attachments": {},
   "cell_type": "markdown",
   "metadata": {},
   "source": [
    "对应的中文名："
   ]
  },
  {
   "cell_type": "code",
   "execution_count": null,
   "metadata": {
    "collapsed": true
   },
   "outputs": [],
   "source": [
    "chinese = ['01. **Python 本体**', \n",
    "           '02. **Numpy**',\n",
    "           '03. **Scipy**',\n",
    "           '04. **Python 进阶**',\n",
    "           '05. **Matplotlib**',\n",
    "           '06. **使用其他语言进行扩展**',\n",
    "           '07. **面向对象编程**',\n",
    "           '08. **Theano 基础**',\n",
    "           '09. **有趣的第三方模块**',\n",
    "           '10. **有用的工具**',\n",
    "           '11. **Pandas**'\n",
    "          ]"
   ]
  },
  {
   "attachments": {},
   "cell_type": "markdown",
   "metadata": {},
   "source": [
    "一一对应到字典中："
   ]
  },
  {
   "cell_type": "code",
   "execution_count": 3,
   "metadata": {},
   "outputs": [],
   "source": [
    "folders = ['01-python_note']\n",
    "chinese = ['01. **Python 本体**',]\n"
   ]
  },
  {
   "cell_type": "code",
   "execution_count": 4,
   "metadata": {
    "collapsed": true
   },
   "outputs": [],
   "source": [
    "folders_to_chinese = dict(zip(folders, chinese))"
   ]
  },
  {
   "attachments": {},
   "cell_type": "markdown",
   "metadata": {},
   "source": [
    "产生目录文件："
   ]
  },
  {
   "cell_type": "code",
   "execution_count": 5,
   "metadata": {
    "collapsed": true
   },
   "outputs": [],
   "source": [
    "index_file = open('index.md', 'w')"
   ]
  },
  {
   "attachments": {},
   "cell_type": "markdown",
   "metadata": {},
   "source": [
    "遍历产生中文目录："
   ]
  },
  {
   "cell_type": "code",
   "execution_count": 11,
   "metadata": {
    "collapsed": false,
    "scrolled": false
   },
   "outputs": [
    {
     "name": "stdout",
     "output_type": "stream",
     "text": [
      "01. Python 本体\n",
      "    01.00 使用 Anaconda\n",
      "    01.00 Ipython 解释器\n",
      "    01.01 Python 简介\n",
      "    01.02 Python Language Intro\n",
      "    02.01 数字\n",
      "    02.02 字符串\n",
      "    02.03 索引和分片\n",
      "    02.04 列表\n",
      "    02.05 可变和不可变类型\n",
      "    02.06 元组\n",
      "    02.07 列表与元组的速度比较\n",
      "    02.08 字典\n",
      "    02.09 集合\n",
      "    02.10 不可变集合\n",
      "    02.11 Python 赋值机制\n",
      "    02.12 判断语句\n",
      "    02.13 循环\n",
      "    02.14 列表推导式\n",
      "    02.15 函数\n",
      "    02.16 模块和包\n",
      "    02.17 异常\n",
      "    02.18 警告\n",
      "    02.19 文件读写\n",
      "    lab.i 练习\n"
     ]
    }
   ],
   "source": [
    "import nbformat\n",
    "import glob\n",
    "\n",
    "with open('index.md', 'w', encoding='utf-8') as index_file:\n",
    "    for folder in folders:\n",
    "        index_file.write('- [' + folders_to_chinese[folder]\n",
    "                         + '](' + folder + ')\\n')\n",
    "        print(folders_to_chinese[folder].replace('*', ''))\n",
    "        files = sorted(os.listdir(folder))\n",
    "        for file_name in files:\n",
    "            if file_name.endswith('.ipynb'):\n",
    "                with open(os.path.join(folder, file_name), encoding='utf-8') as fp:\n",
    "                    nb = nbformat.read(fp, nbformat.NO_CONVERT)\n",
    "                name = nb['cells'][0]['source'][1:].strip()\n",
    "                print('    ' + file_name[:5], name)\n",
    "                index_file.write('\\t - [' + file_name[:5] + ' ')\n",
    "                index_file.write(name)\n",
    "                index_file.write('](' + folder + '/' + file_name + ')\\n')\n"
   ]
  },
  {
   "cell_type": "code",
   "execution_count": null,
   "metadata": {},
   "outputs": [],
   "source": []
  }
 ],
 "metadata": {
  "kernelspec": {
   "display_name": "Python 3",
   "language": "python",
   "name": "python3"
  },
  "language_info": {
   "codemirror_mode": {
    "name": "ipython",
    "version": 3
   },
   "file_extension": ".py",
   "mimetype": "text/x-python",
   "name": "python",
   "nbconvert_exporter": "python",
   "pygments_lexer": "ipython3",
   "version": "3.10.8"
  }
 },
 "nbformat": 4,
 "nbformat_minor": 0
}
